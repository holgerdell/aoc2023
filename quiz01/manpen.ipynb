{
 "cells": [
  {
   "cell_type": "code",
   "execution_count": 4,
   "metadata": {},
   "outputs": [],
   "source": [
    "import re\n",
    "\n",
    "def part1(text):\n",
    "    return sum( (int(d[0] + d[-1]) for d in re.sub(r\"[^\\d\\n]\", \"\", text).split(\"\\n\") if d != \"\") )\n",
    "\n",
    "def part2(text):\n",
    "    for (i,d) in enumerate(\"zero|one|two|three|four|five|six|seven|eight|nine\".split(\"|\")):\n",
    "        # digits can overlap; so we replace them with {digit}{num}{digit} to preserve the overlap\n",
    "        text = text.replace(d, d + str(i) + d)\n",
    "    return part1(text)\n",
    "\n",
    "# Example\n",
    "assert(part1(\"1abc2\\npqr3stu8vwx\\na1b2c3d4e5f\\ntreb7uchet\") == 142)\n",
    "assert(part2(\"two1nine\\neightwothree\\nabcone2threexyz\\nxtwone3four\\n4nineeightseven2\\nzoneight234\\n7pqrstsixteen\") == 281)\n"
   ]
  },
  {
   "cell_type": "code",
   "execution_count": 5,
   "metadata": {},
   "outputs": [
    {
     "name": "stdout",
     "output_type": "stream",
     "text": [
      "Quiz 1:  55002\n",
      "Quiz 2:  55093\n"
     ]
    }
   ],
   "source": [
    "with open(\"manpen.txt\") as f:\n",
    "    text = f.read()\n",
    "\n",
    "print(\"Quiz 1: \", part1(text))\n",
    "print(\"Quiz 2: \", part2(text))\n"
   ]
  }
 ],
 "metadata": {
  "kernelspec": {
   "display_name": "Python 3",
   "language": "python",
   "name": "python3"
  },
  "language_info": {
   "codemirror_mode": {
    "name": "ipython",
    "version": 3
   },
   "file_extension": ".py",
   "mimetype": "text/x-python",
   "name": "python",
   "nbconvert_exporter": "python",
   "pygments_lexer": "ipython3",
   "version": "3.10.12"
  }
 },
 "nbformat": 4,
 "nbformat_minor": 2
}
